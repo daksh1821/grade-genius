{
 "cells": [
  {
   "cell_type": "code",
   "execution_count": 1,
   "metadata": {},
   "outputs": [
    {
     "name": "stdout",
     "output_type": "stream",
     "text": [
      "Ok\n"
     ]
    }
   ],
   "source": [
    "img_path='timetable.png'\n",
    "import os\n",
    "if os.path.exists(img_path):\n",
    "    print(\"Ok\")"
   ]
  },
  {
   "cell_type": "code",
   "execution_count": 3,
   "metadata": {},
   "outputs": [],
   "source": [
    "import pytesseract\n",
    "import pandas as pd"
   ]
  },
  {
   "cell_type": "code",
   "execution_count": 4,
   "metadata": {},
   "outputs": [
    {
     "data": {
      "application/javascript": "\n        if (window._pyforest_update_imports_cell) { window._pyforest_update_imports_cell('from PIL import Image'); }\n    ",
      "text/plain": [
       "<IPython.core.display.Javascript object>"
      ]
     },
     "metadata": {},
     "output_type": "display_data"
    }
   ],
   "source": [
    "image = Image.open(img_path)\n",
    "\n",
    "data = pytesseract.image_to_string(image, config='--psm 6')  # psm 6 is for table-like structure\n",
    "\n",
    "# Split into lines and then to cells\n",
    "rows = [row.split() for row in data.split('\\n') if row.strip()]\n",
    "df = pd.DataFrame(rows)\n",
    "\n",
    "# Save as CSV\n",
    "df.to_csv(\"output2.csv\", index=False)"
   ]
  },
  {
   "cell_type": "code",
   "execution_count": 8,
   "metadata": {},
   "outputs": [
    {
     "name": "stderr",
     "output_type": "stream",
     "text": [
      "c:\\Users\\Charanjeet Juneja\\AppData\\Local\\Programs\\Python\\Python311\\Lib\\site-packages\\paddle\\utils\\cpp_extension\\extension_utils.py:711: UserWarning: No ccache found. Please be aware that recompiling all source files may be required. You can download and install ccache from: https://github.com/ccache/ccache/blob/master/doc/INSTALL.md\n",
      "  warnings.warn(warning_message)\n"
     ]
    }
   ],
   "source": [
    "from paddleocr import PaddleOCR"
   ]
  },
  {
   "cell_type": "code",
   "execution_count": 9,
   "metadata": {},
   "outputs": [
    {
     "name": "stdout",
     "output_type": "stream",
     "text": [
      "download https://paddleocr.bj.bcebos.com/PP-OCRv3/english/en_PP-OCRv3_det_infer.tar to C:\\Users\\Charanjeet Juneja/.paddleocr/whl\\det\\en\\en_PP-OCRv3_det_infer\\en_PP-OCRv3_det_infer.tar\n"
     ]
    },
    {
     "name": "stderr",
     "output_type": "stream",
     "text": [
      "100%|██████████| 3910/3910 [00:15<00:00, 250.41it/s] \n"
     ]
    },
    {
     "name": "stdout",
     "output_type": "stream",
     "text": [
      "download https://paddleocr.bj.bcebos.com/PP-OCRv4/english/en_PP-OCRv4_rec_infer.tar to C:\\Users\\Charanjeet Juneja/.paddleocr/whl\\rec\\en\\en_PP-OCRv4_rec_infer\\en_PP-OCRv4_rec_infer.tar\n"
     ]
    },
    {
     "name": "stderr",
     "output_type": "stream",
     "text": [
      "100%|██████████| 10000/10000 [00:19<00:00, 515.03it/s]\n"
     ]
    },
    {
     "name": "stdout",
     "output_type": "stream",
     "text": [
      "download https://paddleocr.bj.bcebos.com/dygraph_v2.0/ch/ch_ppocr_mobile_v2.0_cls_infer.tar to C:\\Users\\Charanjeet Juneja/.paddleocr/whl\\cls\\ch_ppocr_mobile_v2.0_cls_infer\\ch_ppocr_mobile_v2.0_cls_infer.tar\n"
     ]
    },
    {
     "name": "stderr",
     "output_type": "stream",
     "text": [
      "100%|██████████| 2138/2138 [00:01<00:00, 1086.07it/s]\n"
     ]
    }
   ],
   "source": [
    "# from paddleocr import PaddleOCR\n",
    "\n",
    "ocr = PaddleOCR(use_angle_cls=True, lang='en', show_log=False)\n",
    "\n",
    "result = ocr.ocr(img_path, cls=True)\n",
    "\n",
    "# Extracted data in result – now you can manually structure it or write rules to clean into a table\n"
   ]
  },
  {
   "cell_type": "code",
   "execution_count": 14,
   "metadata": {},
   "outputs": [],
   "source": [
    "results = ocr.ocr(img_path, cls=True)"
   ]
  },
  {
   "cell_type": "code",
   "execution_count": 17,
   "metadata": {},
   "outputs": [
    {
     "data": {
      "text/plain": [
       "[[[[[119.0, 84.0], [875.0, 84.0], [875.0, 147.0], [119.0, 147.0]],\n",
       "   ('CLASS SCHEDULE', 0.9290928840637207)],\n",
       "  [[[444.0, 206.0], [629.0, 206.0], [629.0, 244.0], [444.0, 244.0]],\n",
       "   ('MONDAY', 0.9955686926841736)],\n",
       "  [[[750.0, 206.0], [931.0, 206.0], [931.0, 242.0], [750.0, 242.0]],\n",
       "   ('TUESDAY', 0.9961361289024353)],\n",
       "  [[[1017.0, 210.0], [1260.0, 210.0], [1260.0, 240.0], [1017.0, 240.0]],\n",
       "   ('WEDNESDAY', 0.9945417046546936)],\n",
       "  [[[1333.0, 206.0], [1548.0, 206.0], [1548.0, 242.0], [1333.0, 242.0]],\n",
       "   ('THURSDAY', 0.9954177141189575)],\n",
       "  [[[1669.0, 206.0], [1817.0, 206.0], [1817.0, 244.0], [1669.0, 244.0]],\n",
       "   ('FRIDAY', 0.9959349632263184)],\n",
       "  [[[156.0, 316.0], [350.0, 316.0], [350.0, 343.0], [156.0, 343.0]],\n",
       "   ('07:30 - 08:30', 0.9595812559127808)],\n",
       "  [[[460.0, 311.0], [610.0, 311.0], [610.0, 341.0], [460.0, 341.0]],\n",
       "   ('Class 8-A', 0.9505488276481628)],\n",
       "  [[[760.0, 311.0], [910.0, 311.0], [910.0, 341.0], [760.0, 341.0]],\n",
       "   ('Class 8-A', 0.9941580891609192)],\n",
       "  [[[446.0, 427.0], [623.0, 425.0], [623.0, 463.0], [446.0, 465.0]],\n",
       "   ('Hey world', 0.9986618757247925)],\n",
       "  [[[771.0, 427.0], [902.0, 427.0], [902.0, 465.0], [771.0, 465.0]],\n",
       "   ('My God', 0.9920902252197266)],\n",
       "  [[[1050.0, 427.0], [1225.0, 427.0], [1225.0, 463.0], [1050.0, 463.0]],\n",
       "   ('Ok please!', 0.9931420087814331)],\n",
       "  [[[1652.0, 427.0], [1825.0, 427.0], [1825.0, 463.0], [1652.0, 463.0]],\n",
       "   ('Ok please!', 0.9997361302375793)],\n",
       "  [[[154.0, 438.0], [350.0, 438.0], [350.0, 467.0], [154.0, 467.0]],\n",
       "   ('08:30 - 09:30', 0.9990659356117249)],\n",
       "  [[[448.0, 547.0], [625.0, 547.0], [625.0, 583.0], [448.0, 583.0]],\n",
       "   ('Ok please!', 0.9700301885604858)],\n",
       "  [[[758.0, 547.0], [915.0, 547.0], [915.0, 583.0], [758.0, 583.0]],\n",
       "   ('Class 8-A', 0.9973264336585999)],\n",
       "  [[[1350.0, 547.0], [1525.0, 547.0], [1525.0, 583.0], [1350.0, 583.0]],\n",
       "   ('Ok please!', 0.9998906254768372)],\n",
       "  [[[160.0, 562.0], [344.0, 562.0], [344.0, 589.0], [160.0, 589.0]],\n",
       "   ('09:30 - 10:30', 0.9920230507850647)],\n",
       "  [[[458.0, 667.0], [612.0, 667.0], [612.0, 703.0], [458.0, 703.0]],\n",
       "   ('Class 8-A', 0.9979283809661865)],\n",
       "  [[[1060.0, 667.0], [1215.0, 667.0], [1215.0, 703.0], [1060.0, 703.0]],\n",
       "   ('Class 8-A', 0.9953470230102539)],\n",
       "  [[[167.0, 684.0], [335.0, 684.0], [335.0, 713.0], [167.0, 713.0]],\n",
       "   ('10:30 - 11:30', 0.9988558292388916)],\n",
       "  [[[458.0, 787.0], [612.0, 787.0], [612.0, 823.0], [458.0, 823.0]],\n",
       "   ('Class 8-A', 0.9979283809661865)],\n",
       "  [[[169.0, 806.0], [335.0, 806.0], [335.0, 835.0], [169.0, 835.0]],\n",
       "   ('11:30 - 12:30', 0.9968633055686951)],\n",
       "  [[[494.0, 909.0], [575.0, 909.0], [575.0, 941.0], [494.0, 941.0]],\n",
       "   ('Free', 0.9998165369033813)],\n",
       "  [[[756.0, 909.0], [917.0, 909.0], [917.0, 945.0], [756.0, 945.0]],\n",
       "   ('Hey mine', 0.9996964931488037)],\n",
       "  [[[1360.0, 907.0], [1517.0, 907.0], [1517.0, 943.0], [1360.0, 943.0]],\n",
       "   ('Class 8-A', 0.9989184141159058)],\n",
       "  [[[167.0, 930.0], [338.0, 930.0], [338.0, 959.0], [167.0, 959.0]],\n",
       "   ('12:30 - 13:30', 0.9941521883010864)],\n",
       "  [[[491.0, 1022.0], [580.0, 1028.0], [578.0, 1065.0], [489.0, 1060.0]],\n",
       "   ('Free', 0.9998331069946289)],\n",
       "  [[[1066.0, 1022.0], [1207.0, 1030.0], [1205.0, 1067.0], [1064.0, 1060.0]],\n",
       "   ('Okay go', 0.9998106360435486)],\n",
       "  [[[165.0, 1054.0], [340.0, 1054.0], [340.0, 1082.0], [165.0, 1082.0]],\n",
       "   ('13:30 - 14:30', 0.9716384410858154)],\n",
       "  [[[492.0, 1145.0], [579.0, 1145.0], [579.0, 1183.0], [492.0, 1183.0]],\n",
       "   ('Free', 0.9998711347579956)],\n",
       "  [[[1349.0, 1142.0], [1525.0, 1147.0], [1524.0, 1185.0], [1348.0, 1180.0]],\n",
       "   ('Ok please!', 0.999675452709198)],\n",
       "  [[[165.0, 1176.0], [340.0, 1176.0], [340.0, 1206.0], [165.0, 1206.0]],\n",
       "   ('14:30 - 15:30', 0.9911367893218994)],\n",
       "  [[[494.0, 1267.0], [575.0, 1267.0], [575.0, 1298.0], [494.0, 1298.0]],\n",
       "   ('Free', 0.9998353719711304)],\n",
       "  [[[165.0, 1300.0], [340.0, 1300.0], [340.0, 1330.0], [165.0, 1330.0]],\n",
       "   ('15:30 - 16:30', 0.9944738149642944)]]]"
      ]
     },
     "execution_count": 17,
     "metadata": {},
     "output_type": "execute_result"
    }
   ],
   "source": [
    "results"
   ]
  },
  {
   "cell_type": "code",
   "execution_count": 19,
   "metadata": {},
   "outputs": [
    {
     "data": {
      "text/plain": [
       "[[[[[119.0, 84.0], [875.0, 84.0], [875.0, 147.0], [119.0, 147.0]],\n",
       "   ('CLASS SCHEDULE', 0.9290928840637207)],\n",
       "  [[[444.0, 206.0], [629.0, 206.0], [629.0, 244.0], [444.0, 244.0]],\n",
       "   ('MONDAY', 0.9955686926841736)],\n",
       "  [[[750.0, 206.0], [931.0, 206.0], [931.0, 242.0], [750.0, 242.0]],\n",
       "   ('TUESDAY', 0.9961361289024353)],\n",
       "  [[[1017.0, 210.0], [1260.0, 210.0], [1260.0, 240.0], [1017.0, 240.0]],\n",
       "   ('WEDNESDAY', 0.9945417046546936)],\n",
       "  [[[1333.0, 206.0], [1548.0, 206.0], [1548.0, 242.0], [1333.0, 242.0]],\n",
       "   ('THURSDAY', 0.9954177141189575)],\n",
       "  [[[1669.0, 206.0], [1817.0, 206.0], [1817.0, 244.0], [1669.0, 244.0]],\n",
       "   ('FRIDAY', 0.9959349632263184)],\n",
       "  [[[156.0, 316.0], [350.0, 316.0], [350.0, 343.0], [156.0, 343.0]],\n",
       "   ('07:30 - 08:30', 0.9595812559127808)],\n",
       "  [[[460.0, 311.0], [610.0, 311.0], [610.0, 341.0], [460.0, 341.0]],\n",
       "   ('Class 8-A', 0.9505488276481628)],\n",
       "  [[[760.0, 311.0], [910.0, 311.0], [910.0, 341.0], [760.0, 341.0]],\n",
       "   ('Class 8-A', 0.9941580891609192)],\n",
       "  [[[446.0, 427.0], [623.0, 425.0], [623.0, 463.0], [446.0, 465.0]],\n",
       "   ('Hey world', 0.9986618757247925)],\n",
       "  [[[771.0, 427.0], [902.0, 427.0], [902.0, 465.0], [771.0, 465.0]],\n",
       "   ('My God', 0.9920902252197266)],\n",
       "  [[[1050.0, 427.0], [1225.0, 427.0], [1225.0, 463.0], [1050.0, 463.0]],\n",
       "   ('Ok please!', 0.9931420087814331)],\n",
       "  [[[1652.0, 427.0], [1825.0, 427.0], [1825.0, 463.0], [1652.0, 463.0]],\n",
       "   ('Ok please!', 0.9997361302375793)],\n",
       "  [[[154.0, 438.0], [350.0, 438.0], [350.0, 467.0], [154.0, 467.0]],\n",
       "   ('08:30 - 09:30', 0.9990659356117249)],\n",
       "  [[[448.0, 547.0], [625.0, 547.0], [625.0, 583.0], [448.0, 583.0]],\n",
       "   ('Ok please!', 0.9700301885604858)],\n",
       "  [[[758.0, 547.0], [915.0, 547.0], [915.0, 583.0], [758.0, 583.0]],\n",
       "   ('Class 8-A', 0.9973264336585999)],\n",
       "  [[[1350.0, 547.0], [1525.0, 547.0], [1525.0, 583.0], [1350.0, 583.0]],\n",
       "   ('Ok please!', 0.9998906254768372)],\n",
       "  [[[160.0, 562.0], [344.0, 562.0], [344.0, 589.0], [160.0, 589.0]],\n",
       "   ('09:30 - 10:30', 0.9920230507850647)],\n",
       "  [[[458.0, 667.0], [612.0, 667.0], [612.0, 703.0], [458.0, 703.0]],\n",
       "   ('Class 8-A', 0.9979283809661865)],\n",
       "  [[[1060.0, 667.0], [1215.0, 667.0], [1215.0, 703.0], [1060.0, 703.0]],\n",
       "   ('Class 8-A', 0.9953470230102539)],\n",
       "  [[[167.0, 684.0], [335.0, 684.0], [335.0, 713.0], [167.0, 713.0]],\n",
       "   ('10:30 - 11:30', 0.9988558292388916)],\n",
       "  [[[458.0, 787.0], [612.0, 787.0], [612.0, 823.0], [458.0, 823.0]],\n",
       "   ('Class 8-A', 0.9979283809661865)],\n",
       "  [[[169.0, 806.0], [335.0, 806.0], [335.0, 835.0], [169.0, 835.0]],\n",
       "   ('11:30 - 12:30', 0.9968633055686951)],\n",
       "  [[[494.0, 909.0], [575.0, 909.0], [575.0, 941.0], [494.0, 941.0]],\n",
       "   ('Free', 0.9998165369033813)],\n",
       "  [[[756.0, 909.0], [917.0, 909.0], [917.0, 945.0], [756.0, 945.0]],\n",
       "   ('Hey mine', 0.9996964931488037)],\n",
       "  [[[1360.0, 907.0], [1517.0, 907.0], [1517.0, 943.0], [1360.0, 943.0]],\n",
       "   ('Class 8-A', 0.9989184141159058)],\n",
       "  [[[167.0, 930.0], [338.0, 930.0], [338.0, 959.0], [167.0, 959.0]],\n",
       "   ('12:30 - 13:30', 0.9941521883010864)],\n",
       "  [[[491.0, 1022.0], [580.0, 1028.0], [578.0, 1065.0], [489.0, 1060.0]],\n",
       "   ('Free', 0.9998331069946289)],\n",
       "  [[[1066.0, 1022.0], [1207.0, 1030.0], [1205.0, 1067.0], [1064.0, 1060.0]],\n",
       "   ('Okay go', 0.9998106360435486)],\n",
       "  [[[165.0, 1054.0], [340.0, 1054.0], [340.0, 1082.0], [165.0, 1082.0]],\n",
       "   ('13:30 - 14:30', 0.9716384410858154)],\n",
       "  [[[492.0, 1145.0], [579.0, 1145.0], [579.0, 1183.0], [492.0, 1183.0]],\n",
       "   ('Free', 0.9998711347579956)],\n",
       "  [[[1349.0, 1142.0], [1525.0, 1147.0], [1524.0, 1185.0], [1348.0, 1180.0]],\n",
       "   ('Ok please!', 0.999675452709198)],\n",
       "  [[[165.0, 1176.0], [340.0, 1176.0], [340.0, 1206.0], [165.0, 1206.0]],\n",
       "   ('14:30 - 15:30', 0.9911367893218994)],\n",
       "  [[[494.0, 1267.0], [575.0, 1267.0], [575.0, 1298.0], [494.0, 1298.0]],\n",
       "   ('Free', 0.9998353719711304)],\n",
       "  [[[165.0, 1300.0], [340.0, 1300.0], [340.0, 1330.0], [165.0, 1330.0]],\n",
       "   ('15:30 - 16:30', 0.9944738149642944)]]]"
      ]
     },
     "execution_count": 19,
     "metadata": {},
     "output_type": "execute_result"
    }
   ],
   "source": [
    "results"
   ]
  },
  {
   "cell_type": "code",
   "execution_count": 36,
   "metadata": {},
   "outputs": [
    {
     "name": "stdout",
     "output_type": "stream",
     "text": [
      "1\n"
     ]
    }
   ],
   "source": [
    "print(len(results))"
   ]
  },
  {
   "cell_type": "code",
   "execution_count": 42,
   "metadata": {},
   "outputs": [
    {
     "name": "stdout",
     "output_type": "stream",
     "text": [
      "Bounding Box: [[119.0, 84.0], [875.0, 84.0], [875.0, 147.0], [119.0, 147.0]]\n",
      "Text: \"CLASS SCHEDULE\"\n",
      "Probability: 0.9291\n",
      "\n",
      "Bounding Box: [[444.0, 206.0], [629.0, 206.0], [629.0, 244.0], [444.0, 244.0]]\n",
      "Text: \"MONDAY\"\n",
      "Probability: 0.9956\n",
      "\n",
      "Bounding Box: [[750.0, 206.0], [931.0, 206.0], [931.0, 242.0], [750.0, 242.0]]\n",
      "Text: \"TUESDAY\"\n",
      "Probability: 0.9961\n",
      "\n",
      "Bounding Box: [[1017.0, 210.0], [1260.0, 210.0], [1260.0, 240.0], [1017.0, 240.0]]\n",
      "Text: \"WEDNESDAY\"\n",
      "Probability: 0.9945\n",
      "\n",
      "Bounding Box: [[1333.0, 206.0], [1548.0, 206.0], [1548.0, 242.0], [1333.0, 242.0]]\n",
      "Text: \"THURSDAY\"\n",
      "Probability: 0.9954\n",
      "\n",
      "Bounding Box: [[1669.0, 206.0], [1817.0, 206.0], [1817.0, 244.0], [1669.0, 244.0]]\n",
      "Text: \"FRIDAY\"\n",
      "Probability: 0.9959\n",
      "\n",
      "Bounding Box: [[156.0, 316.0], [350.0, 316.0], [350.0, 343.0], [156.0, 343.0]]\n",
      "Text: \"07:30 - 08:30\"\n",
      "Probability: 0.9596\n",
      "\n",
      "Bounding Box: [[460.0, 311.0], [610.0, 311.0], [610.0, 341.0], [460.0, 341.0]]\n",
      "Text: \"Class 8-A\"\n",
      "Probability: 0.9505\n",
      "\n",
      "Bounding Box: [[760.0, 311.0], [910.0, 311.0], [910.0, 341.0], [760.0, 341.0]]\n",
      "Text: \"Class 8-A\"\n",
      "Probability: 0.9942\n",
      "\n",
      "Bounding Box: [[446.0, 427.0], [623.0, 425.0], [623.0, 463.0], [446.0, 465.0]]\n",
      "Text: \"Hey world\"\n",
      "Probability: 0.9987\n",
      "\n",
      "Bounding Box: [[771.0, 427.0], [902.0, 427.0], [902.0, 465.0], [771.0, 465.0]]\n",
      "Text: \"My God\"\n",
      "Probability: 0.9921\n",
      "\n",
      "Bounding Box: [[1050.0, 427.0], [1225.0, 427.0], [1225.0, 463.0], [1050.0, 463.0]]\n",
      "Text: \"Ok please!\"\n",
      "Probability: 0.9931\n",
      "\n",
      "Bounding Box: [[1652.0, 427.0], [1825.0, 427.0], [1825.0, 463.0], [1652.0, 463.0]]\n",
      "Text: \"Ok please!\"\n",
      "Probability: 0.9997\n",
      "\n",
      "Bounding Box: [[154.0, 438.0], [350.0, 438.0], [350.0, 467.0], [154.0, 467.0]]\n",
      "Text: \"08:30 - 09:30\"\n",
      "Probability: 0.9991\n",
      "\n",
      "Bounding Box: [[448.0, 547.0], [625.0, 547.0], [625.0, 583.0], [448.0, 583.0]]\n",
      "Text: \"Ok please!\"\n",
      "Probability: 0.9700\n",
      "\n",
      "Bounding Box: [[758.0, 547.0], [915.0, 547.0], [915.0, 583.0], [758.0, 583.0]]\n",
      "Text: \"Class 8-A\"\n",
      "Probability: 0.9973\n",
      "\n",
      "Bounding Box: [[1350.0, 547.0], [1525.0, 547.0], [1525.0, 583.0], [1350.0, 583.0]]\n",
      "Text: \"Ok please!\"\n",
      "Probability: 0.9999\n",
      "\n",
      "Bounding Box: [[160.0, 562.0], [344.0, 562.0], [344.0, 589.0], [160.0, 589.0]]\n",
      "Text: \"09:30 - 10:30\"\n",
      "Probability: 0.9920\n",
      "\n",
      "Bounding Box: [[458.0, 667.0], [612.0, 667.0], [612.0, 703.0], [458.0, 703.0]]\n",
      "Text: \"Class 8-A\"\n",
      "Probability: 0.9979\n",
      "\n",
      "Bounding Box: [[1060.0, 667.0], [1215.0, 667.0], [1215.0, 703.0], [1060.0, 703.0]]\n",
      "Text: \"Class 8-A\"\n",
      "Probability: 0.9953\n",
      "\n",
      "Bounding Box: [[167.0, 684.0], [335.0, 684.0], [335.0, 713.0], [167.0, 713.0]]\n",
      "Text: \"10:30 - 11:30\"\n",
      "Probability: 0.9989\n",
      "\n",
      "Bounding Box: [[458.0, 787.0], [612.0, 787.0], [612.0, 823.0], [458.0, 823.0]]\n",
      "Text: \"Class 8-A\"\n",
      "Probability: 0.9979\n",
      "\n",
      "Bounding Box: [[169.0, 806.0], [335.0, 806.0], [335.0, 835.0], [169.0, 835.0]]\n",
      "Text: \"11:30 - 12:30\"\n",
      "Probability: 0.9969\n",
      "\n",
      "Bounding Box: [[494.0, 909.0], [575.0, 909.0], [575.0, 941.0], [494.0, 941.0]]\n",
      "Text: \"Free\"\n",
      "Probability: 0.9998\n",
      "\n",
      "Bounding Box: [[756.0, 909.0], [917.0, 909.0], [917.0, 945.0], [756.0, 945.0]]\n",
      "Text: \"Hey mine\"\n",
      "Probability: 0.9997\n",
      "\n",
      "Bounding Box: [[1360.0, 907.0], [1517.0, 907.0], [1517.0, 943.0], [1360.0, 943.0]]\n",
      "Text: \"Class 8-A\"\n",
      "Probability: 0.9989\n",
      "\n",
      "Bounding Box: [[167.0, 930.0], [338.0, 930.0], [338.0, 959.0], [167.0, 959.0]]\n",
      "Text: \"12:30 - 13:30\"\n",
      "Probability: 0.9942\n",
      "\n",
      "Bounding Box: [[491.0, 1022.0], [580.0, 1028.0], [578.0, 1065.0], [489.0, 1060.0]]\n",
      "Text: \"Free\"\n",
      "Probability: 0.9998\n",
      "\n",
      "Bounding Box: [[1066.0, 1022.0], [1207.0, 1030.0], [1205.0, 1067.0], [1064.0, 1060.0]]\n",
      "Text: \"Okay go\"\n",
      "Probability: 0.9998\n",
      "\n",
      "Bounding Box: [[165.0, 1054.0], [340.0, 1054.0], [340.0, 1082.0], [165.0, 1082.0]]\n",
      "Text: \"13:30 - 14:30\"\n",
      "Probability: 0.9716\n",
      "\n",
      "Bounding Box: [[492.0, 1145.0], [579.0, 1145.0], [579.0, 1183.0], [492.0, 1183.0]]\n",
      "Text: \"Free\"\n",
      "Probability: 0.9999\n",
      "\n",
      "Bounding Box: [[1349.0, 1142.0], [1525.0, 1147.0], [1524.0, 1185.0], [1348.0, 1180.0]]\n",
      "Text: \"Ok please!\"\n",
      "Probability: 0.9997\n",
      "\n",
      "Bounding Box: [[165.0, 1176.0], [340.0, 1176.0], [340.0, 1206.0], [165.0, 1206.0]]\n",
      "Text: \"14:30 - 15:30\"\n",
      "Probability: 0.9911\n",
      "\n",
      "Bounding Box: [[494.0, 1267.0], [575.0, 1267.0], [575.0, 1298.0], [494.0, 1298.0]]\n",
      "Text: \"Free\"\n",
      "Probability: 0.9998\n",
      "\n",
      "Bounding Box: [[165.0, 1300.0], [340.0, 1300.0], [340.0, 1330.0], [165.0, 1330.0]]\n",
      "Text: \"15:30 - 16:30\"\n",
      "Probability: 0.9945\n",
      "\n"
     ]
    }
   ],
   "source": [
    "text_entries = []\n",
    "\n",
    "for entry in results[0]:\n",
    "    # top left, top right, bottom right, bottom left format\n",
    "    bbox, (text, prob) = entry\n",
    "    \n",
    "    print(f\"Bounding Box: {bbox}\")\n",
    "    print(f\"Text: \\\"{text}\\\"\")\n",
    "    print(f\"Probability: {prob:.4f}\\n\")\n",
    "    \n",
    "    x_coords = [point[0] for point in bbox]\n",
    "    y_coords = [point[1] for point in bbox]\n",
    "    \n",
    "    startX = int(min(x_coords))\n",
    "    endX = int(max(x_coords))\n",
    "    startY = int(min(y_coords))\n",
    "    endY = int(max(y_coords))\n",
    "    \n",
    "    text_entries.append((startX, endX, startY, endY, text))\n"
   ]
  },
  {
   "cell_type": "code",
   "execution_count": 44,
   "metadata": {},
   "outputs": [
    {
     "name": "stdout",
     "output_type": "stream",
     "text": [
      "(119, 875, 84, 147, 'CLASS SCHEDULE')\n",
      "(444, 629, 206, 244, 'MONDAY')\n",
      "(750, 931, 206, 242, 'TUESDAY')\n",
      "(1017, 1260, 210, 240, 'WEDNESDAY')\n",
      "(1333, 1548, 206, 242, 'THURSDAY')\n",
      "(1669, 1817, 206, 244, 'FRIDAY')\n",
      "(156, 350, 316, 343, '07:30 - 08:30')\n",
      "(460, 610, 311, 341, 'Class 8-A')\n",
      "(760, 910, 311, 341, 'Class 8-A')\n",
      "(446, 623, 425, 465, 'Hey world')\n",
      "(771, 902, 427, 465, 'My God')\n",
      "(1050, 1225, 427, 463, 'Ok please!')\n",
      "(1652, 1825, 427, 463, 'Ok please!')\n",
      "(154, 350, 438, 467, '08:30 - 09:30')\n",
      "(448, 625, 547, 583, 'Ok please!')\n",
      "(758, 915, 547, 583, 'Class 8-A')\n",
      "(1350, 1525, 547, 583, 'Ok please!')\n",
      "(160, 344, 562, 589, '09:30 - 10:30')\n",
      "(458, 612, 667, 703, 'Class 8-A')\n",
      "(1060, 1215, 667, 703, 'Class 8-A')\n",
      "(167, 335, 684, 713, '10:30 - 11:30')\n",
      "(458, 612, 787, 823, 'Class 8-A')\n",
      "(169, 335, 806, 835, '11:30 - 12:30')\n",
      "(494, 575, 909, 941, 'Free')\n",
      "(756, 917, 909, 945, 'Hey mine')\n",
      "(1360, 1517, 907, 943, 'Class 8-A')\n",
      "(167, 338, 930, 959, '12:30 - 13:30')\n",
      "(489, 580, 1022, 1065, 'Free')\n",
      "(1064, 1207, 1022, 1067, 'Okay go')\n",
      "(165, 340, 1054, 1082, '13:30 - 14:30')\n",
      "(492, 579, 1145, 1183, 'Free')\n",
      "(1348, 1525, 1142, 1185, 'Ok please!')\n",
      "(165, 340, 1176, 1206, '14:30 - 15:30')\n",
      "(494, 575, 1267, 1298, 'Free')\n",
      "(165, 340, 1300, 1330, '15:30 - 16:30')\n"
     ]
    }
   ],
   "source": [
    "for res in text_entries:\n",
    "    print(res)"
   ]
  },
  {
   "cell_type": "code",
   "execution_count": 46,
   "metadata": {},
   "outputs": [],
   "source": [
    "rows = []\n",
    "\n",
    "for entry in text_entries:\n",
    "    startX, endX, startY, endY, text = entry\n",
    "    placed = False\n",
    "\n",
    "    for row in rows:\n",
    "        _, _, ref_startY, ref_endY, _ = row[0]\n",
    "        if (ref_startY - 20) <= startY <= (ref_endY + 20):\n",
    "            row.append(entry)\n",
    "            placed = True\n",
    "            break\n",
    "\n",
    "    if not placed:\n",
    "        rows.append([entry])\n",
    "\n",
    "# Step 3: Sort rows top to bottom and each row left to right\n",
    "rows.sort(key=lambda row: min(e[2] for e in row))  # by startY\n",
    "for row in rows:\n",
    "    row.sort(key=lambda x: x[0])  "
   ]
  },
  {
   "cell_type": "code",
   "execution_count": 48,
   "metadata": {},
   "outputs": [
    {
     "name": "stdout",
     "output_type": "stream",
     "text": [
      "\n",
      "✅ Final Timetable Rows (Dynamic Y Range Matching):\n",
      "\n",
      "Row 1: CLASS SCHEDULE\n",
      "Row 2: MONDAY  |  TUESDAY  |  WEDNESDAY  |  THURSDAY  |  FRIDAY\n",
      "Row 3: 07:30 - 08:30  |  Class 8-A  |  Class 8-A\n",
      "Row 4: 08:30 - 09:30  |  Hey world  |  My God  |  Ok please!  |  Ok please!\n",
      "Row 5: 09:30 - 10:30  |  Ok please!  |  Class 8-A  |  Ok please!\n",
      "Row 6: 10:30 - 11:30  |  Class 8-A  |  Class 8-A\n",
      "Row 7: 11:30 - 12:30  |  Class 8-A\n",
      "Row 8: 12:30 - 13:30  |  Free  |  Hey mine  |  Class 8-A\n",
      "Row 9: 13:30 - 14:30  |  Free  |  Okay go\n",
      "Row 10: 14:30 - 15:30  |  Free  |  Ok please!\n",
      "Row 11: 15:30 - 16:30  |  Free\n"
     ]
    }
   ],
   "source": [
    "print(\"\\n✅ Final Timetable Rows (Dynamic Y Range Matching):\\n\")\n",
    "for i, row in enumerate(rows, start=1):\n",
    "    row_text = [text for (_, _, _,_, text) in row]\n",
    "    print(f\"Row {i}: {'  |  '.join(row_text)}\")"
   ]
  }
 ],
 "metadata": {
  "kernelspec": {
   "display_name": "Python 3",
   "language": "python",
   "name": "python3"
  },
  "language_info": {
   "codemirror_mode": {
    "name": "ipython",
    "version": 3
   },
   "file_extension": ".py",
   "mimetype": "text/x-python",
   "name": "python",
   "nbconvert_exporter": "python",
   "pygments_lexer": "ipython3",
   "version": "3.11.5"
  }
 },
 "nbformat": 4,
 "nbformat_minor": 2
}
